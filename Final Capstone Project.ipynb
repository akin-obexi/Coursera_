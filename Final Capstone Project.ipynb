{
    "cells": [
        {
            "metadata": {
                "collapsed": true
            },
            "cell_type": "markdown",
            "source": "# Introduction\n\nA contractor is interested in opening an African Supermarket & Restaurant in Texas and needs my help to determine appropriate location. Factors i will be considering include income of Afican families in the various counties in Texas and existing African supermarkets and restaurants in Texas.\n\nEssentially the supermarket is to be located in a county with medium-high income African population with minimum competion\n"
        },
        {
            "metadata": {},
            "cell_type": "markdown",
            "source": "# Data\n\nData on MEDIAN HOUSEHOLD INCOME for Texas is in the link below. This data will be used to determine the top 5 countys. using Foursquare location data, these 5 counties will be examined for presence or proximity to existing African stores and restaurants.\n\n\"https://datausa.io/api/data?Geography=04000US48:children&measure=Household Income by Race,Household Income by Race Moe&drilldowns=Race\""
        },
        {
            "metadata": {},
            "cell_type": "code",
            "source": "",
            "execution_count": null,
            "outputs": []
        }
    ],
    "metadata": {
        "kernelspec": {
            "name": "python3",
            "display_name": "Python 3.7",
            "language": "python"
        },
        "language_info": {
            "name": "python",
            "version": "3.7.9",
            "mimetype": "text/x-python",
            "codemirror_mode": {
                "name": "ipython",
                "version": 3
            },
            "pygments_lexer": "ipython3",
            "nbconvert_exporter": "python",
            "file_extension": ".py"
        }
    },
    "nbformat": 4,
    "nbformat_minor": 1
}